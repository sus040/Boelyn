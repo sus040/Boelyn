{
 "cells": [
  {
   "cell_type": "markdown",
   "metadata": {},
   "source": [
    "# Hostpial Data Visualization"
   ]
  },
  {
   "cell_type": "code",
   "execution_count": 1,
   "metadata": {},
   "outputs": [],
   "source": [
    "# All libraries should be downloaded.\n",
    "import pandas as pd\n",
    "import matplotlib as plt\n",
    "import psycopg\n",
    "from credentials import DBNAME, USER, PASSWORD\n"
   ]
  },
  {
   "cell_type": "code",
   "execution_count": 2,
   "metadata": {},
   "outputs": [
    {
     "name": "stderr",
     "output_type": "stream",
     "text": [
      "<ipython-input-2-4c40127f9b27>:15: UserWarning: pandas only supports SQLAlchemy connectable (engine/connection) or database string URI or sqlite3 DBAPI2 connection. Other DBAPI2 objects are not tested. Please consider using SQLAlchemy.\n",
      "  hospital_df = pd.read_sql(query_1, conn)\n",
      "<ipython-input-2-4c40127f9b27>:16: UserWarning: pandas only supports SQLAlchemy connectable (engine/connection) or database string URI or sqlite3 DBAPI2 connection. Other DBAPI2 objects are not tested. Please consider using SQLAlchemy.\n",
      "  beds_df = pd.read_sql(query_2, conn)\n",
      "<ipython-input-2-4c40127f9b27>:17: UserWarning: pandas only supports SQLAlchemy connectable (engine/connection) or database string URI or sqlite3 DBAPI2 connection. Other DBAPI2 objects are not tested. Please consider using SQLAlchemy.\n",
      "  quality_df = pd.read_sql(query_3, conn)\n"
     ]
    }
   ],
   "source": [
    "# Getting Hospital Data\n",
    "import pandas as pd\n",
    "import psycopg\n",
    "from credentials import DBNAME, USER, PASSWORD\n",
    "\n",
    "conn = psycopg.connect(\n",
    "    host=\"pinniped.postgres.database.azure.com\",\n",
    "    dbname=DBNAME, user=USER, password=PASSWORD\n",
    ")\n",
    "\n",
    "query_1 = \"SELECT * FROM hospital;\"\n",
    "query_2 = \"SELECT * FROM beds\"\n",
    "query_3 = \"SELECT * FROM quality\"\n",
    "\n",
    "hospital_df = pd.read_sql(query_1, conn)\n",
    "beds_df = pd.read_sql(query_2, conn)\n",
    "quality_df = pd.read_sql(query_3, conn)\n",
    "\n",
    "conn.close()"
   ]
  },
  {
   "cell_type": "markdown",
   "metadata": {},
   "source": [
    "## Data Analysis"
   ]
  },
  {
   "cell_type": "markdown",
   "metadata": {},
   "source": [
    "### Question 1"
   ]
  },
  {
   "cell_type": "code",
   "execution_count": 3,
   "metadata": {},
   "outputs": [
    {
     "name": "stderr",
     "output_type": "stream",
     "text": [
      "<ipython-input-3-76eae4948ca5>:15: UserWarning: pandas only supports SQLAlchemy connectable (engine/connection) or database string URI or sqlite3 DBAPI2 connection. Other DBAPI2 objects are not tested. Please consider using SQLAlchemy.\n",
      "  beds_df = pd.read_sql(query_2, conn)\n"
     ]
    },
    {
     "data": {
      "image/png": "[encoded data removed]",
      "text/plain": [
       "<Figure size 864x432 with 1 Axes>"
      ]
     },
     "metadata": {
      "needs_background": "light"
     },
     "output_type": "display_data"
    }
   ],
   "source": [
    "# A summary of how many hospital records were loaded in the week selected by the user, and how that compares to previous weeks.\n",
    "\n",
    "import pandas as pd\n",
    "import matplotlib.pyplot as plt\n",
    "import psycopg\n",
    "from credentials import DBNAME, USER, PASSWORD\n",
    "\n",
    "conn = psycopg.connect(\n",
    "    host=\"pinniped.postgres.database.azure.com\",\n",
    "    dbname=DBNAME, user=USER, password=PASSWORD\n",
    ")\n",
    "\n",
    "query_2 = \"SELECT * FROM beds\"\n",
    "\n",
    "beds_df = pd.read_sql(query_2, conn)\n",
    "\n",
    "conn.close()\n",
    "\n",
    "beds_df['collection_week'] = pd.to_datetime(beds_df['collection_week'])\n",
    "weekly_counts = beds_df.groupby('collection_week').size().reset_index(name='record_count')\n",
    "weekly_counts.sort_values('collection_week', inplace=True)\n",
    "\n",
    "plt.figure(figsize=(12, 6))\n",
    "plt.plot(weekly_counts['collection_week'], weekly_counts['record_count'], marker='o')\n",
    "plt.xlabel('Week')\n",
    "plt.ylabel('Number of Records')\n",
    "plt.title('Weekly Hospital Records')\n",
    "plt.xticks(rotation=45)  \n",
    "plt.grid(True)\n",
    "plt.tight_layout()  \n",
    "plt.show()"
   ]
  },
  {
   "cell_type": "markdown",
   "metadata": {},
   "source": [
    "### Question 2"
   ]
  },
  {
   "cell_type": "code",
   "execution_count": 4,
   "metadata": {},
   "outputs": [
    {
     "name": "stderr",
     "output_type": "stream",
     "text": [
      "<ipython-input-4-e965377a9bac>:15: UserWarning: pandas only supports SQLAlchemy connectable (engine/connection) or database string URI or sqlite3 DBAPI2 connection. Other DBAPI2 objects are not tested. Please consider using SQLAlchemy.\n",
      "  beds_df = pd.read_sql(query_2, conn)\n"
     ]
    },
    {
     "data": {
      "text/html": [
       "<div>\n",
       "<style scoped>\n",
       "    .dataframe tbody tr th:only-of-type {\n",
       "        vertical-align: middle;\n",
       "    }\n",
       "\n",
       "    .dataframe tbody tr th {\n",
       "        vertical-align: top;\n",
       "    }\n",
       "\n",
       "    .dataframe thead th {\n",
       "        text-align: right;\n",
       "    }\n",
       "</style>\n",
       "<table border=\"1\" class=\"dataframe\">\n",
       "  <thead>\n",
       "    <tr style=\"text-align: right;\">\n",
       "      <th></th>\n",
       "      <th>collection_week</th>\n",
       "      <th>all_adult_hospital_beds_7_day_avg</th>\n",
       "      <th>all_pediatric_inpatient_beds_7_day_avg</th>\n",
       "      <th>all_adult_hospital_inpatient_bed_occupied_7_day_coverage</th>\n",
       "      <th>all_pediatric_inpatient_bed_occupied_7_day_avg</th>\n",
       "      <th>inpatient_beds_used_covid_7_day_avg</th>\n",
       "    </tr>\n",
       "  </thead>\n",
       "  <tbody>\n",
       "    <tr>\n",
       "      <th>4</th>\n",
       "      <td>2022-10-21</td>\n",
       "      <td>176998.3</td>\n",
       "      <td>21347.3</td>\n",
       "      <td>5325.0</td>\n",
       "      <td>15698.5</td>\n",
       "      <td>12810.2</td>\n",
       "    </tr>\n",
       "    <tr>\n",
       "      <th>3</th>\n",
       "      <td>2022-10-14</td>\n",
       "      <td>179385.3</td>\n",
       "      <td>21886.9</td>\n",
       "      <td>5452.0</td>\n",
       "      <td>15780.2</td>\n",
       "      <td>12696.0</td>\n",
       "    </tr>\n",
       "    <tr>\n",
       "      <th>2</th>\n",
       "      <td>2022-10-07</td>\n",
       "      <td>178667.4</td>\n",
       "      <td>22210.6</td>\n",
       "      <td>5374.0</td>\n",
       "      <td>15571.4</td>\n",
       "      <td>12468.0</td>\n",
       "    </tr>\n",
       "    <tr>\n",
       "      <th>1</th>\n",
       "      <td>2022-09-30</td>\n",
       "      <td>183362.3</td>\n",
       "      <td>22317.5</td>\n",
       "      <td>5483.0</td>\n",
       "      <td>15486.3</td>\n",
       "      <td>13212.7</td>\n",
       "    </tr>\n",
       "    <tr>\n",
       "      <th>0</th>\n",
       "      <td>2022-09-23</td>\n",
       "      <td>185298.4</td>\n",
       "      <td>21822.2</td>\n",
       "      <td>5674.0</td>\n",
       "      <td>14991.1</td>\n",
       "      <td>13754.6</td>\n",
       "    </tr>\n",
       "  </tbody>\n",
       "</table>\n",
       "</div>"
      ],
      "text/plain": [
       "  collection_week  all_adult_hospital_beds_7_day_avg  \\\n",
       "4      2022-10-21                           176998.3   \n",
       "3      2022-10-14                           179385.3   \n",
       "2      2022-10-07                           178667.4   \n",
       "1      2022-09-30                           183362.3   \n",
       "0      2022-09-23                           185298.4   \n",
       "\n",
       "   all_pediatric_inpatient_beds_7_day_avg  \\\n",
       "4                                 21347.3   \n",
       "3                                 21886.9   \n",
       "2                                 22210.6   \n",
       "1                                 22317.5   \n",
       "0                                 21822.2   \n",
       "\n",
       "   all_adult_hospital_inpatient_bed_occupied_7_day_coverage  \\\n",
       "4                                             5325.0          \n",
       "3                                             5452.0          \n",
       "2                                             5374.0          \n",
       "1                                             5483.0          \n",
       "0                                             5674.0          \n",
       "\n",
       "   all_pediatric_inpatient_bed_occupied_7_day_avg  \\\n",
       "4                                         15698.5   \n",
       "3                                         15780.2   \n",
       "2                                         15571.4   \n",
       "1                                         15486.3   \n",
       "0                                         14991.1   \n",
       "\n",
       "   inpatient_beds_used_covid_7_day_avg  \n",
       "4                              12810.2  \n",
       "3                              12696.0  \n",
       "2                              12468.0  \n",
       "1                              13212.7  \n",
       "0                              13754.6  "
      ]
     },
     "execution_count": 4,
     "metadata": {},
     "output_type": "execute_result"
    }
   ],
   "source": [
    "# A table summarizing the number of adult and pediatric beds available that week, the number used, and the number used by patients with COVID, compared to the 4 most recent weeks.\n",
    "\n",
    "import pandas as pd\n",
    "import matplotlib.pyplot as plt\n",
    "import psycopg\n",
    "from credentials import DBNAME, USER, PASSWORD\n",
    "\n",
    "conn = psycopg.connect(\n",
    "    host=\"pinniped.postgres.database.azure.com\",\n",
    "    dbname=DBNAME, user=USER, password=PASSWORD\n",
    ")\n",
    "\n",
    "query_2 = \"SELECT * FROM beds\"\n",
    "\n",
    "beds_df = pd.read_sql(query_2, conn)\n",
    "\n",
    "conn.close()\n",
    "\n",
    "weekly_summary = beds_df.groupby('collection_week').agg({\n",
    "    'all_adult_hospital_beds_7_day_avg': 'sum',\n",
    "    'all_pediatric_inpatient_beds_7_day_avg': 'sum',\n",
    "    'all_adult_hospital_inpatient_bed_occupied_7_day_coverage': 'sum',\n",
    "    'all_pediatric_inpatient_bed_occupied_7_day_avg': 'sum',\n",
    "    'inpatient_beds_used_covid_7_day_avg': 'sum'\n",
    "}).reset_index()\n",
    "\n",
    "weekly_summary.sort_values('collection_week', ascending=False, inplace=True)\n",
    "comparison_weeks = weekly_summary.head(5)\n",
    "comparison_weeks"
   ]
  },
  {
   "cell_type": "markdown",
   "metadata": {},
   "source": [
    "### Question 3"
   ]
  },
  {
   "cell_type": "code",
   "execution_count": 11,
   "metadata": {},
   "outputs": [
    {
     "name": "stderr",
     "output_type": "stream",
     "text": [
      "<ipython-input-11-817d8f5356eb>:16: UserWarning: pandas only supports SQLAlchemy connectable (engine/connection) or database string URI or sqlite3 DBAPI2 connection. Other DBAPI2 objects are not tested. Please consider using SQLAlchemy.\n",
      "  beds_df = pd.read_sql(query_2, conn)\n",
      "<ipython-input-11-817d8f5356eb>:17: UserWarning: pandas only supports SQLAlchemy connectable (engine/connection) or database string URI or sqlite3 DBAPI2 connection. Other DBAPI2 objects are not tested. Please consider using SQLAlchemy.\n",
      "  quality_df = pd.read_sql(query_3, conn)\n"
     ]
    },
    {
     "data": {
      "text/html": [
       "<div>\n",
       "<style scoped>\n",
       "    .dataframe tbody tr th:only-of-type {\n",
       "        vertical-align: middle;\n",
       "    }\n",
       "\n",
       "    .dataframe tbody tr th {\n",
       "        vertical-align: top;\n",
       "    }\n",
       "\n",
       "    .dataframe thead th {\n",
       "        text-align: right;\n",
       "    }\n",
       "</style>\n",
       "<table border=\"1\" class=\"dataframe\">\n",
       "  <thead>\n",
       "    <tr style=\"text-align: right;\">\n",
       "      <th></th>\n",
       "      <th>quality_rating</th>\n",
       "      <th>fraction_beds_in_use</th>\n",
       "    </tr>\n",
       "  </thead>\n",
       "  <tbody>\n",
       "    <tr>\n",
       "      <th>0</th>\n",
       "      <td>1.0</td>\n",
       "      <td>0.061611</td>\n",
       "    </tr>\n",
       "    <tr>\n",
       "      <th>1</th>\n",
       "      <td>2.0</td>\n",
       "      <td>0.072718</td>\n",
       "    </tr>\n",
       "    <tr>\n",
       "      <th>2</th>\n",
       "      <td>3.0</td>\n",
       "      <td>0.070728</td>\n",
       "    </tr>\n",
       "    <tr>\n",
       "      <th>3</th>\n",
       "      <td>4.0</td>\n",
       "      <td>0.080727</td>\n",
       "    </tr>\n",
       "    <tr>\n",
       "      <th>4</th>\n",
       "      <td>5.0</td>\n",
       "      <td>0.065875</td>\n",
       "    </tr>\n",
       "  </tbody>\n",
       "</table>\n",
       "</div>"
      ],
      "text/plain": [
       "   quality_rating  fraction_beds_in_use\n",
       "0             1.0              0.061611\n",
       "1             2.0              0.072718\n",
       "2             3.0              0.070728\n",
       "3             4.0              0.080727\n",
       "4             5.0              0.065875"
      ]
     },
     "execution_count": 11,
     "metadata": {},
     "output_type": "execute_result"
    }
   ],
   "source": [
    "# A graph or table summarizing the fraction of beds in use by hospital quality rating, so we can compare high-quality and low-quality hospitals.\n",
    "\n",
    "import pandas as pd\n",
    "import matplotlib.pyplot as plt\n",
    "import psycopg\n",
    "from credentials import DBNAME, USER, PASSWORD\n",
    "\n",
    "conn = psycopg.connect(\n",
    "    host=\"pinniped.postgres.database.azure.com\",\n",
    "    dbname=DBNAME, user=USER, password=PASSWORD\n",
    ")\n",
    "\n",
    "query_2 = \"SELECT * FROM beds\"\n",
    "query_3 = \"SELECT * FROM quality\"\n",
    "\n",
    "beds_df = pd.read_sql(query_2, conn)\n",
    "quality_df = pd.read_sql(query_3, conn)\n",
    "\n",
    "conn.close()\n",
    "\n",
    "merged_df = pd.merge(beds_df, quality_df, left_on='hospital_pk', right_on='facility_id')\n",
    "\n",
    "merged_df['total_beds'] = merged_df['all_adult_hospital_beds_7_day_avg'] + merged_df['all_pediatric_inpatient_beds_7_day_avg']\n",
    "merged_df['beds_in_use'] = merged_df['all_adult_hospital_inpatient_bed_occupied_7_day_coverage'] + merged_df['all_pediatric_inpatient_bed_occupied_7_day_avg']\n",
    "\n",
    "merged_df['fraction_beds_in_use'] = merged_df['beds_in_use'] / merged_df['total_beds']\n",
    "\n",
    "quality_bed_usage = merged_df.groupby('quality_rating')['fraction_beds_in_use'].mean().reset_index()\n",
    "\n",
    "quality_bed_usage"
   ]
  },
  {
   "cell_type": "markdown",
   "metadata": {},
   "source": [
    "### Question 4"
   ]
  },
  {
   "cell_type": "code",
   "execution_count": 6,
   "metadata": {},
   "outputs": [
    {
     "name": "stderr",
     "output_type": "stream",
     "text": [
      "<ipython-input-6-cafe96b1ed40>:15: UserWarning: pandas only supports SQLAlchemy connectable (engine/connection) or database string URI or sqlite3 DBAPI2 connection. Other DBAPI2 objects are not tested. Please consider using SQLAlchemy.\n",
      "  beds_df = pd.read_sql(query_2, conn)\n"
     ]
    },
    {
     "data": {
      "image/png": "[encoded data removed]",
      "text/plain": [
       "<Figure size 864x432 with 1 Axes>"
      ]
     },
     "metadata": {
      "needs_background": "light"
     },
     "output_type": "display_data"
    }
   ],
   "source": [
    "# A plot of the total number of hospital beds used per week, over all time up to the selected week, split into all cases and COVID cases.\n",
    "\n",
    "import pandas as pd\n",
    "import matplotlib.pyplot as plt\n",
    "import psycopg\n",
    "from credentials import DBNAME, USER, PASSWORD\n",
    "\n",
    "conn = psycopg.connect(\n",
    "    host=\"pinniped.postgres.database.azure.com\",\n",
    "    dbname=DBNAME, user=USER, password=PASSWORD\n",
    ")\n",
    "\n",
    "query_2 = \"SELECT * FROM beds\"\n",
    "\n",
    "beds_df = pd.read_sql(query_2, conn)\n",
    "\n",
    "conn.close()\n",
    "\n",
    "beds_df['collection_week'] = pd.to_datetime(beds_df['collection_week'])\n",
    "\n",
    "weekly_beds_usage = beds_df.groupby('collection_week').agg({\n",
    "    'all_adult_hospital_inpatient_bed_occupied_7_day_coverage': 'sum',\n",
    "    'all_pediatric_inpatient_bed_occupied_7_day_avg': 'sum',\n",
    "    'inpatient_beds_used_covid_7_day_avg': 'sum'\n",
    "}).reset_index()\n",
    "\n",
    "weekly_beds_usage['total_beds_used'] = (weekly_beds_usage['all_adult_hospital_inpatient_bed_occupied_7_day_coverage'] +\n",
    "                                        weekly_beds_usage['all_pediatric_inpatient_bed_occupied_7_day_avg'])\n",
    "\n",
    "plt.figure(figsize=(12, 6))\n",
    "plt.plot(weekly_beds_usage['collection_week'], weekly_beds_usage['total_beds_used'], label='Total Beds Used', marker='o')\n",
    "plt.plot(weekly_beds_usage['collection_week'], weekly_beds_usage['inpatient_beds_used_covid_7_day_avg'], label='COVID Beds Used', marker='x')\n",
    "plt.xlabel('Week')\n",
    "plt.ylabel('Number of Beds Used')\n",
    "plt.title('Total Number of Hospital Beds Used Per Week')\n",
    "plt.legend()\n",
    "plt.grid(True)\n",
    "plt.show()"
   ]
  },
  {
   "cell_type": "markdown",
   "metadata": {},
   "source": [
    "### Question 5"
   ]
  },
  {
   "cell_type": "code",
   "execution_count": 7,
   "metadata": {},
   "outputs": [
    {
     "name": "stderr",
     "output_type": "stream",
     "text": [
      "<ipython-input-7-7c9fdbd58279>:16: UserWarning: pandas only supports SQLAlchemy connectable (engine/connection) or database string URI or sqlite3 DBAPI2 connection. Other DBAPI2 objects are not tested. Please consider using SQLAlchemy.\n",
      "  hospital_df = pd.read_sql(query_1, conn)\n",
      "<ipython-input-7-7c9fdbd58279>:17: UserWarning: pandas only supports SQLAlchemy connectable (engine/connection) or database string URI or sqlite3 DBAPI2 connection. Other DBAPI2 objects are not tested. Please consider using SQLAlchemy.\n",
      "  beds_df = pd.read_sql(query_2, conn)\n"
     ]
    },
    {
     "data": {
      "image/png": "[encoded data removed]",
      "text/plain": [
       "<Figure size 1080x504 with 1 Axes>"
      ]
     },
     "metadata": {
      "needs_background": "light"
     },
     "output_type": "display_data"
    }
   ],
   "source": [
    "# A map showing the number of COVID cases by state (the first two digits of a hospital FIPS code is its state)\n",
    "\n",
    "import pandas as pd\n",
    "import matplotlib.pyplot as plt\n",
    "import psycopg\n",
    "from credentials import DBNAME, USER, PASSWORD\n",
    "\n",
    "conn = psycopg.connect(\n",
    "    host=\"pinniped.postgres.database.azure.com\",\n",
    "    dbname=DBNAME, user=USER, password=PASSWORD\n",
    ")\n",
    "\n",
    "query_1 = \"SELECT * FROM hospital\"\n",
    "query_2 = \"SELECT * FROM beds\"\n",
    "\n",
    "hospital_df = pd.read_sql(query_1, conn)\n",
    "beds_df = pd.read_sql(query_2, conn)\n",
    "\n",
    "conn.close()\n",
    "\n",
    "state_code_to_abbrev = {\n",
    "    '01': 'AL', '02': 'AK', '04': 'AZ', '05': 'AR',\n",
    "    '06': 'CA', '08': 'CO', '09': 'CT', '10': 'DE',\n",
    "    '11': 'DC', '12': 'FL', '13': 'GA', '15': 'HI',\n",
    "    '16': 'ID', '17': 'IL', '18': 'IN', '19': 'IA',\n",
    "    '20': 'KS', '21': 'KY', '22': 'LA', '23': 'ME',\n",
    "    '24': 'MD', '25': 'MA', '26': 'MI', '27': 'MN',\n",
    "    '28': 'MS', '29': 'MO', '30': 'MT', '31': 'NE',\n",
    "    '32': 'NV', '33': 'NH', '34': 'NJ', '35': 'NM',\n",
    "    '36': 'NY', '37': 'NC', '38': 'ND', '39': 'OH',\n",
    "    '40': 'OK', '41': 'OR', '42': 'PA', '44': 'RI',\n",
    "    '45': 'SC', '46': 'SD', '47': 'TN', '48': 'TX',\n",
    "    '49': 'UT', '50': 'VT', '51': 'VA', '53': 'WA',\n",
    "    '54': 'WV', '55': 'WI', '56': 'WY'\n",
    "}\n",
    "\n",
    "hospital_df['state_code'] = hospital_df['fips_code'].str[:2]\n",
    "\n",
    "merged_data = pd.merge(beds_df, hospital_df[['hospital_pk', 'state_code']], on='hospital_pk')\n",
    "\n",
    "merged_data['state_abbrev'] = merged_data['state_code'].map(state_code_to_abbrev)\n",
    "\n",
    "statewise_covid_cases = merged_data.groupby('state_abbrev')['inpatient_beds_used_covid_7_day_avg'].sum().reset_index()\n",
    "\n",
    "plt.figure(figsize=(15, 7))\n",
    "plt.bar(statewise_covid_cases['state_abbrev'], statewise_covid_cases['inpatient_beds_used_covid_7_day_avg'], color='teal')\n",
    "plt.xlabel('State')\n",
    "plt.ylabel('COVID Cases')\n",
    "plt.title('COVID Cases by State (Abbreviated)')\n",
    "plt.xticks(rotation=90) \n",
    "plt.show()\n"
   ]
  },
  {
   "cell_type": "markdown",
   "metadata": {},
   "source": [
    "### Question 6"
   ]
  },
  {
   "cell_type": "code",
   "execution_count": 6,
   "metadata": {},
   "outputs": [
    {
     "name": "stderr",
     "output_type": "stream",
     "text": [
      "<ipython-input-6-fe8ff9c8e839>:16: UserWarning: pandas only supports SQLAlchemy connectable (engine/connection) or database string URI or sqlite3 DBAPI2 connection. Other DBAPI2 objects are not tested. Please consider using SQLAlchemy.\n",
      "  hospital_df = pd.read_sql(query_1, conn)\n",
      "<ipython-input-6-fe8ff9c8e839>:17: UserWarning: pandas only supports SQLAlchemy connectable (engine/connection) or database string URI or sqlite3 DBAPI2 connection. Other DBAPI2 objects are not tested. Please consider using SQLAlchemy.\n",
      "  beds_df = pd.read_sql(query_2, conn)\n"
     ]
    },
    {
     "data": {
      "text/html": [
       "<div>\n",
       "<style scoped>\n",
       "    .dataframe tbody tr th:only-of-type {\n",
       "        vertical-align: middle;\n",
       "    }\n",
       "\n",
       "    .dataframe tbody tr th {\n",
       "        vertical-align: top;\n",
       "    }\n",
       "\n",
       "    .dataframe thead th {\n",
       "        text-align: right;\n",
       "    }\n",
       "</style>\n",
       "<table border=\"1\" class=\"dataframe\">\n",
       "  <thead>\n",
       "    <tr style=\"text-align: right;\">\n",
       "      <th>collection_week</th>\n",
       "      <th>state</th>\n",
       "      <th>case_increase</th>\n",
       "    </tr>\n",
       "  </thead>\n",
       "  <tbody>\n",
       "    <tr>\n",
       "      <th>0</th>\n",
       "      <td>NY</td>\n",
       "      <td>80.9</td>\n",
       "    </tr>\n",
       "    <tr>\n",
       "      <th>1</th>\n",
       "      <td>IL</td>\n",
       "      <td>77.7</td>\n",
       "    </tr>\n",
       "    <tr>\n",
       "      <th>2</th>\n",
       "      <td>MO</td>\n",
       "      <td>69.0</td>\n",
       "    </tr>\n",
       "    <tr>\n",
       "      <th>3</th>\n",
       "      <td>MN</td>\n",
       "      <td>43.6</td>\n",
       "    </tr>\n",
       "    <tr>\n",
       "      <th>4</th>\n",
       "      <td>NJ</td>\n",
       "      <td>34.0</td>\n",
       "    </tr>\n",
       "  </tbody>\n",
       "</table>\n",
       "</div>"
      ],
      "text/plain": [
       "collection_week state  case_increase\n",
       "0                  NY           80.9\n",
       "1                  IL           77.7\n",
       "2                  MO           69.0\n",
       "3                  MN           43.6\n",
       "4                  NJ           34.0"
      ]
     },
     "execution_count": 6,
     "metadata": {},
     "output_type": "execute_result"
    }
   ],
   "source": [
    "# A table of the states in which the number of cases has increased by the most since last week\n",
    "\n",
    "import pandas as pd\n",
    "import matplotlib.pyplot as plt\n",
    "import psycopg\n",
    "from credentials import DBNAME, USER, PASSWORD\n",
    "\n",
    "conn = psycopg.connect(\n",
    "    host=\"pinniped.postgres.database.azure.com\",\n",
    "    dbname=DBNAME, user=USER, password=PASSWORD\n",
    ")\n",
    "\n",
    "query_1 = \"SELECT * FROM hospital\"\n",
    "query_2 = \"SELECT * FROM beds\"\n",
    "\n",
    "hospital_df = pd.read_sql(query_1, conn)\n",
    "beds_df = pd.read_sql(query_2, conn)\n",
    "\n",
    "conn.close()\n",
    "\n",
    "beds_df['collection_week'] = pd.to_datetime(beds_df['collection_week'])\n",
    "\n",
    "last_two_weeks = beds_df['collection_week'].drop_duplicates().nlargest(2).sort_values()\n",
    "\n",
    "recent_data = beds_df[beds_df['collection_week'].isin(last_two_weeks)]\n",
    "\n",
    "merged_data = pd.merge(recent_data, hospital_df[['hospital_pk', 'state']], on='hospital_pk')\n",
    "\n",
    "grouped_data = merged_data.groupby(['state', 'collection_week'])['inpatient_beds_used_covid_7_day_avg'].sum().reset_index()\n",
    "\n",
    "pivot_data = grouped_data.pivot(index='state', columns='collection_week', values='inpatient_beds_used_covid_7_day_avg')\n",
    "\n",
    "pivot_data['case_increase'] = pivot_data[last_two_weeks.iloc[1]] - pivot_data[last_two_weeks.iloc[0]]\n",
    "\n",
    "pivot_data = pivot_data.sort_values('case_increase', ascending=False)\n",
    "\n",
    "final_table = pivot_data[['case_increase']].reset_index()\n",
    "\n",
    "final_table.head()"
   ]
  },
  {
   "cell_type": "markdown",
   "metadata": {},
   "source": [
    "### Question 7"
   ]
  },
  {
   "cell_type": "code",
   "execution_count": 2,
   "metadata": {},
   "outputs": [
    {
     "name": "stderr",
     "output_type": "stream",
     "text": [
      "<ipython-input-2-868d397c301f>:16: UserWarning: pandas only supports SQLAlchemy connectable (engine/connection) or database string URI or sqlite3 DBAPI2 connection. Other DBAPI2 objects are not tested. Please consider using SQLAlchemy.\n",
      "  hospital_df = pd.read_sql(query_1, conn)\n",
      "<ipython-input-2-868d397c301f>:17: UserWarning: pandas only supports SQLAlchemy connectable (engine/connection) or database string URI or sqlite3 DBAPI2 connection. Other DBAPI2 objects are not tested. Please consider using SQLAlchemy.\n",
      "  beds_df = pd.read_sql(query_2, conn)\n"
     ]
    },
    {
     "data": {
      "text/html": [
       "<div>\n",
       "<style scoped>\n",
       "    .dataframe tbody tr th:only-of-type {\n",
       "        vertical-align: middle;\n",
       "    }\n",
       "\n",
       "    .dataframe tbody tr th {\n",
       "        vertical-align: top;\n",
       "    }\n",
       "\n",
       "    .dataframe thead th {\n",
       "        text-align: right;\n",
       "    }\n",
       "</style>\n",
       "<table border=\"1\" class=\"dataframe\">\n",
       "  <thead>\n",
       "    <tr style=\"text-align: right;\">\n",
       "      <th></th>\n",
       "      <th>hospital_name</th>\n",
       "      <th>address</th>\n",
       "      <th>city</th>\n",
       "      <th>state</th>\n",
       "      <th>zip</th>\n",
       "      <th>case_change</th>\n",
       "    </tr>\n",
       "  </thead>\n",
       "  <tbody>\n",
       "    <tr>\n",
       "      <th>0</th>\n",
       "      <td>CAROLINAS MEDICAL CENTER/BEHAV HEALTH</td>\n",
       "      <td>1000 BLYTHE BLVD</td>\n",
       "      <td>CHARLOTTE</td>\n",
       "      <td>NC</td>\n",
       "      <td>28203</td>\n",
       "      <td>29.4</td>\n",
       "    </tr>\n",
       "    <tr>\n",
       "      <th>1</th>\n",
       "      <td>NEW YORK-PRESBYTERIAN HOSPITAL</td>\n",
       "      <td>525 EAST 68TH STREET</td>\n",
       "      <td>NEW YORK</td>\n",
       "      <td>NY</td>\n",
       "      <td>10065</td>\n",
       "      <td>24.7</td>\n",
       "    </tr>\n",
       "    <tr>\n",
       "      <th>2</th>\n",
       "      <td>GEISINGER MEDICAL CENTER</td>\n",
       "      <td>100 NORTH ACADEMY AVENUE</td>\n",
       "      <td>DANVILLE</td>\n",
       "      <td>PA</td>\n",
       "      <td>17822</td>\n",
       "      <td>17.7</td>\n",
       "    </tr>\n",
       "    <tr>\n",
       "      <th>3</th>\n",
       "      <td>MAINE MEDICAL CENTER</td>\n",
       "      <td>22 BRAMHALL ST</td>\n",
       "      <td>PORTLAND</td>\n",
       "      <td>ME</td>\n",
       "      <td>4102</td>\n",
       "      <td>15.8</td>\n",
       "    </tr>\n",
       "    <tr>\n",
       "      <th>4</th>\n",
       "      <td>MOUNT SINAI WEST</td>\n",
       "      <td>1000 TENTH AVENUE</td>\n",
       "      <td>NEW YORK</td>\n",
       "      <td>NY</td>\n",
       "      <td>10019</td>\n",
       "      <td>12.3</td>\n",
       "    </tr>\n",
       "  </tbody>\n",
       "</table>\n",
       "</div>"
      ],
      "text/plain": [
       "                           hospital_name                   address       city  \\\n",
       "0  CAROLINAS MEDICAL CENTER/BEHAV HEALTH          1000 BLYTHE BLVD  CHARLOTTE   \n",
       "1         NEW YORK-PRESBYTERIAN HOSPITAL      525 EAST 68TH STREET   NEW YORK   \n",
       "2               GEISINGER MEDICAL CENTER  100 NORTH ACADEMY AVENUE   DANVILLE   \n",
       "3                   MAINE MEDICAL CENTER            22 BRAMHALL ST   PORTLAND   \n",
       "4                       MOUNT SINAI WEST         1000 TENTH AVENUE   NEW YORK   \n",
       "\n",
       "  state    zip  case_change  \n",
       "0    NC  28203         29.4  \n",
       "1    NY  10065         24.7  \n",
       "2    PA  17822         17.7  \n",
       "3    ME   4102         15.8  \n",
       "4    NY  10019         12.3  "
      ]
     },
     "execution_count": 2,
     "metadata": {},
     "output_type": "execute_result"
    }
   ],
   "source": [
    "# A table of the hospitals (including names and locations) with the largest changes in COVID cases in the last week\n",
    "\n",
    "import pandas as pd\n",
    "import matplotlib.pyplot as plt\n",
    "import psycopg\n",
    "from credentials import DBNAME, USER, PASSWORD\n",
    "\n",
    "conn = psycopg.connect(\n",
    "    host=\"pinniped.postgres.database.azure.com\",\n",
    "    dbname=DBNAME, user=USER, password=PASSWORD\n",
    ")\n",
    "\n",
    "query_1 = \"SELECT * FROM hospital\"\n",
    "query_2 = \"SELECT * FROM beds\"\n",
    "\n",
    "hospital_df = pd.read_sql(query_1, conn)\n",
    "beds_df = pd.read_sql(query_2, conn)\n",
    "\n",
    "conn.close()\n",
    "\n",
    "beds_df['collection_week'] = pd.to_datetime(beds_df['collection_week'])\n",
    "\n",
    "distinct_weeks = beds_df['collection_week'].drop_duplicates().nlargest(2).sort_values()\n",
    "\n",
    "recent_data_corrected = beds_df[beds_df['collection_week'].isin(distinct_weeks)]\n",
    "\n",
    "grouped_data_corrected = recent_data_corrected.groupby(['hospital_pk', 'collection_week'])['inpatient_beds_used_covid_7_day_avg'].sum().reset_index()\n",
    "\n",
    "pivot_data_corrected = grouped_data_corrected.pivot(index='hospital_pk', columns='collection_week', values='inpatient_beds_used_covid_7_day_avg')\n",
    "\n",
    "pivot_data_corrected['case_change'] = pivot_data_corrected[distinct_weeks.iloc[1]] - pivot_data_corrected[distinct_weeks.iloc[0]]\n",
    "\n",
    "pivot_data_sorted = pivot_data_corrected.sort_values('case_change', ascending=False).reset_index()\n",
    "\n",
    "final_table = pd.merge(pivot_data_sorted, hospital_df[['hospital_pk', 'hospital_name', 'address', 'city', 'state', 'zip']], on='hospital_pk')\n",
    "\n",
    "final_table = final_table[['hospital_name', 'address', 'city', 'state', 'zip', 'case_change']]\n",
    "\n",
    "final_table.head()\n",
    "\n"
   ]
  }
 ],
 "metadata": {
  "kernelspec": {
   "display_name": "base",
   "language": "python",
   "name": "python3"
  },
  "language_info": {
   "codemirror_mode": {
    "name": "ipython",
    "version": 3
   },
   "file_extension": ".py",
   "mimetype": "text/x-python",
   "name": "python",
   "nbconvert_exporter": "python",
   "pygments_lexer": "ipython3",
   "version": "3.11.4"
  },
  "orig_nbformat": 4
 },
 "nbformat": 4,
 "nbformat_minor": 2
}
