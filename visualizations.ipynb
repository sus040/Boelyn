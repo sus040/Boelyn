{
 "cells": [
  {
   "cell_type": "markdown",
   "metadata": {},
   "source": [
    "# Hostpial Data Visualization"
   ]
  },
  {
   "cell_type": "code",
   "execution_count": 9,
   "metadata": {},
   "outputs": [],
   "source": [
    "# All libraries should be downloaded.\n",
    "import pandas as pd\n",
    "import matplotlib as plt\n",
    "import psycopg\n",
    "from credentials import DBNAME, USER, PASSWORD\n"
   ]
  },
  {
   "cell_type": "code",
   "execution_count": 10,
   "metadata": {},
   "outputs": [
    {
     "name": "stderr",
     "output_type": "stream",
     "text": [
      "<ipython-input-10-04b7f9cc0468>:14: UserWarning: pandas only supports SQLAlchemy connectable (engine/connection) or database string URI or sqlite3 DBAPI2 connection. Other DBAPI2 objects are not tested. Please consider using SQLAlchemy.\n",
      "  hospital_df = pd.read_sql(query_1, conn)\n",
      "<ipython-input-10-04b7f9cc0468>:15: UserWarning: pandas only supports SQLAlchemy connectable (engine/connection) or database string URI or sqlite3 DBAPI2 connection. Other DBAPI2 objects are not tested. Please consider using SQLAlchemy.\n",
      "  beds_df = pd.read_sql(query_2, conn)\n",
      "<ipython-input-10-04b7f9cc0468>:16: UserWarning: pandas only supports SQLAlchemy connectable (engine/connection) or database string URI or sqlite3 DBAPI2 connection. Other DBAPI2 objects are not tested. Please consider using SQLAlchemy.\n",
      "  quality_df = pd.read_sql(query_3, conn)\n"
     ]
    }
   ],
   "source": [
    "# Getting Hospital Data\n",
    "import pandas as pd\n",
    "import psycopg\n",
    "from credentials import DBNAME, USER, PASSWORD\n",
    "\n",
    "conn = psycopg.connect(\n",
    "    host=\"pinniped.postgres.database.azure.com\",\n",
    "    dbname=DBNAME, user=USER, password=PASSWORD\n",
    ")\n",
    "\n",
    "query_1 = \"SELECT * FROM hospital;\"\n",
    "query_2 = \"SELECT * FROM beds\"\n",
    "query_3 = \"SELECT * FROM quality\"\n",
    "\n",
    "hospital_df = pd.read_sql(query_1, conn)\n",
    "beds_df = pd.read_sql(query_2, conn)\n",
    "quality_df = pd.read_sql(query_3, conn)\n",
    "\n",
    "conn.close()"
   ]
  },
  {
   "cell_type": "markdown",
   "metadata": {},
   "source": [
    "# `hospital` Data Frame Exploration"
   ]
  },
  {
   "cell_type": "markdown",
   "metadata": {},
   "source": [
    "## Data Summary"
   ]
  },
  {
   "cell_type": "code",
   "execution_count": 12,
   "metadata": {},
   "outputs": [
    {
     "name": "stdout",
     "output_type": "stream",
     "text": [
      "<class 'pandas.core.frame.DataFrame'>\n",
      "RangeIndex: 4996 entries, 0 to 4995\n",
      "Data columns (total 9 columns):\n",
      " #   Column         Non-Null Count  Dtype  \n",
      "---  ------         --------------  -----  \n",
      " 0   hospital_pk    4996 non-null   object \n",
      " 1   hospital_name  4996 non-null   object \n",
      " 2   address        4996 non-null   object \n",
      " 3   city           4996 non-null   object \n",
      " 4   zip            4996 non-null   object \n",
      " 5   fips_code      4996 non-null   object \n",
      " 6   state          4996 non-null   object \n",
      " 7   latitude       4509 non-null   float64\n",
      " 8   longitude      4509 non-null   float64\n",
      "dtypes: float64(2), object(7)\n",
      "memory usage: 351.4+ KB\n"
     ]
    }
   ],
   "source": [
    "import pandas as pd\n",
    "import matplotlib as plt\n",
    "\n",
    "hospital_df.info()"
   ]
  },
  {
   "cell_type": "code",
   "execution_count": 4,
   "metadata": {},
   "outputs": [
    {
     "name": "stderr",
     "output_type": "stream",
     "text": [
      "<ipython-input-4-0d65e14e68ef>:13: UserWarning: pandas only supports SQLAlchemy connectable (engine/connection) or database string URI or sqlite3 DBAPI2 connection. Other DBAPI2 objects are not tested. Please consider using SQLAlchemy.\n",
      "  beds_df = pd.read_sql(query_2, conn)\n"
     ]
    },
    {
     "data": {
      "image/png": "[encoded data removed]",
      "text/plain": [
       "<Figure size 864x432 with 1 Axes>"
      ]
     },
     "metadata": {
      "needs_background": "light"
     },
     "output_type": "display_data"
    }
   ],
   "source": [
    "import pandas as pd\n",
    "import matplotlib.pyplot as plt\n",
    "import psycopg\n",
    "from credentials import DBNAME, USER, PASSWORD\n",
    "\n",
    "conn = psycopg.connect(\n",
    "    host=\"pinniped.postgres.database.azure.com\",\n",
    "    dbname=DBNAME, user=USER, password=PASSWORD\n",
    ")\n",
    "\n",
    "query_2 = \"SELECT * FROM beds\"\n",
    "\n",
    "beds_df = pd.read_sql(query_2, conn)\n",
    "\n",
    "conn.close()\n",
    "\n",
    "beds_df['collection_week'] = pd.to_datetime(beds_df['collection_week'])\n",
    "weekly_counts = beds_df.groupby('collection_week').size().reset_index(name='record_count')\n",
    "weekly_counts.sort_values('collection_week', inplace=True)\n",
    "\n",
    "plt.figure(figsize=(12, 6))\n",
    "plt.plot(weekly_counts['collection_week'], weekly_counts['record_count'], marker='o')\n",
    "plt.xlabel('Week')\n",
    "plt.ylabel('Number of Records')\n",
    "plt.title('Weekly Hospital Records')\n",
    "plt.xticks(rotation=45)  \n",
    "plt.grid(True)\n",
    "plt.tight_layout()  \n",
    "plt.show()"
   ]
  },
  {
   "cell_type": "code",
   "execution_count": 5,
   "metadata": {},
   "outputs": [
    {
     "name": "stderr",
     "output_type": "stream",
     "text": [
      "<ipython-input-5-a41a827fd1ce>:13: UserWarning: pandas only supports SQLAlchemy connectable (engine/connection) or database string URI or sqlite3 DBAPI2 connection. Other DBAPI2 objects are not tested. Please consider using SQLAlchemy.\n",
      "  beds_df = pd.read_sql(query_2, conn)\n"
     ]
    },
    {
     "data": {
      "text/html": [
       "<div>\n",
       "<style scoped>\n",
       "    .dataframe tbody tr th:only-of-type {\n",
       "        vertical-align: middle;\n",
       "    }\n",
       "\n",
       "    .dataframe tbody tr th {\n",
       "        vertical-align: top;\n",
       "    }\n",
       "\n",
       "    .dataframe thead th {\n",
       "        text-align: right;\n",
       "    }\n",
       "</style>\n",
       "<table border=\"1\" class=\"dataframe\">\n",
       "  <thead>\n",
       "    <tr style=\"text-align: right;\">\n",
       "      <th></th>\n",
       "      <th>collection_week</th>\n",
       "      <th>all_adult_hospital_beds_7_day_avg</th>\n",
       "      <th>all_pediatric_inpatient_beds_7_day_avg</th>\n",
       "      <th>all_adult_hospital_inpatient_bed_occupied_7_day_coverage</th>\n",
       "      <th>all_pediatric_inpatient_bed_occupied_7_day_avg</th>\n",
       "      <th>inpatient_beds_used_covid_7_day_avg</th>\n",
       "    </tr>\n",
       "  </thead>\n",
       "  <tbody>\n",
       "    <tr>\n",
       "      <th>0</th>\n",
       "      <td>2022-09-23</td>\n",
       "      <td>-10586399.5</td>\n",
       "      <td>-430959964.5</td>\n",
       "      <td>34832.0</td>\n",
       "      <td>-634971586.9</td>\n",
       "      <td>-1.914972e+09</td>\n",
       "    </tr>\n",
       "  </tbody>\n",
       "</table>\n",
       "</div>"
      ],
      "text/plain": [
       "  collection_week  all_adult_hospital_beds_7_day_avg  \\\n",
       "0      2022-09-23                        -10586399.5   \n",
       "\n",
       "   all_pediatric_inpatient_beds_7_day_avg  \\\n",
       "0                            -430959964.5   \n",
       "\n",
       "   all_adult_hospital_inpatient_bed_occupied_7_day_coverage  \\\n",
       "0                                            34832.0          \n",
       "\n",
       "   all_pediatric_inpatient_bed_occupied_7_day_avg  \\\n",
       "0                                    -634971586.9   \n",
       "\n",
       "   inpatient_beds_used_covid_7_day_avg  \n",
       "0                        -1.914972e+09  "
      ]
     },
     "execution_count": 5,
     "metadata": {},
     "output_type": "execute_result"
    }
   ],
   "source": [
    "import pandas as pd\n",
    "import matplotlib.pyplot as plt\n",
    "import psycopg\n",
    "from credentials import DBNAME, USER, PASSWORD\n",
    "\n",
    "conn = psycopg.connect(\n",
    "    host=\"pinniped.postgres.database.azure.com\",\n",
    "    dbname=DBNAME, user=USER, password=PASSWORD\n",
    ")\n",
    "\n",
    "query_2 = \"SELECT * FROM beds\"\n",
    "\n",
    "beds_df = pd.read_sql(query_2, conn)\n",
    "\n",
    "conn.close()\n",
    "\n",
    "weekly_summary = beds_df.groupby('collection_week').agg({\n",
    "    'all_adult_hospital_beds_7_day_avg': 'sum',\n",
    "    'all_pediatric_inpatient_beds_7_day_avg': 'sum',\n",
    "    'all_adult_hospital_inpatient_bed_occupied_7_day_coverage': 'sum',\n",
    "    'all_pediatric_inpatient_bed_occupied_7_day_avg': 'sum',\n",
    "    'inpatient_beds_used_covid_7_day_avg': 'sum'\n",
    "}).reset_index()\n",
    "\n",
    "weekly_summary.sort_values('collection_week', ascending=False, inplace=True)\n",
    "comparison_weeks = weekly_summary.head(5)\n",
    "comparison_weeks"
   ]
  },
  {
   "cell_type": "code",
   "execution_count": 11,
   "metadata": {},
   "outputs": [
    {
     "name": "stderr",
     "output_type": "stream",
     "text": [
      "<ipython-input-11-512895399a4f>:14: UserWarning: pandas only supports SQLAlchemy connectable (engine/connection) or database string URI or sqlite3 DBAPI2 connection. Other DBAPI2 objects are not tested. Please consider using SQLAlchemy.\n",
      "  beds_df = pd.read_sql(query_2, conn)\n",
      "<ipython-input-11-512895399a4f>:15: UserWarning: pandas only supports SQLAlchemy connectable (engine/connection) or database string URI or sqlite3 DBAPI2 connection. Other DBAPI2 objects are not tested. Please consider using SQLAlchemy.\n",
      "  quality_df = pd.read_sql(query_3, conn)\n"
     ]
    },
    {
     "data": {
      "text/html": [
       "<div>\n",
       "<style scoped>\n",
       "    .dataframe tbody tr th:only-of-type {\n",
       "        vertical-align: middle;\n",
       "    }\n",
       "\n",
       "    .dataframe tbody tr th {\n",
       "        vertical-align: top;\n",
       "    }\n",
       "\n",
       "    .dataframe thead th {\n",
       "        text-align: right;\n",
       "    }\n",
       "</style>\n",
       "<table border=\"1\" class=\"dataframe\">\n",
       "  <thead>\n",
       "    <tr style=\"text-align: right;\">\n",
       "      <th></th>\n",
       "      <th>quality_rating</th>\n",
       "      <th>fraction_beds_in_use</th>\n",
       "    </tr>\n",
       "  </thead>\n",
       "  <tbody>\n",
       "    <tr>\n",
       "      <th>0</th>\n",
       "      <td>1.0</td>\n",
       "      <td>NaN</td>\n",
       "    </tr>\n",
       "    <tr>\n",
       "      <th>1</th>\n",
       "      <td>2.0</td>\n",
       "      <td>NaN</td>\n",
       "    </tr>\n",
       "    <tr>\n",
       "      <th>2</th>\n",
       "      <td>3.0</td>\n",
       "      <td>NaN</td>\n",
       "    </tr>\n",
       "    <tr>\n",
       "      <th>3</th>\n",
       "      <td>4.0</td>\n",
       "      <td>NaN</td>\n",
       "    </tr>\n",
       "    <tr>\n",
       "      <th>4</th>\n",
       "      <td>5.0</td>\n",
       "      <td>-379.261089</td>\n",
       "    </tr>\n",
       "  </tbody>\n",
       "</table>\n",
       "</div>"
      ],
      "text/plain": [
       "   quality_rating  fraction_beds_in_use\n",
       "0             1.0                   NaN\n",
       "1             2.0                   NaN\n",
       "2             3.0                   NaN\n",
       "3             4.0                   NaN\n",
       "4             5.0           -379.261089"
      ]
     },
     "execution_count": 11,
     "metadata": {},
     "output_type": "execute_result"
    }
   ],
   "source": [
    "import pandas as pd\n",
    "import matplotlib.pyplot as plt\n",
    "import psycopg\n",
    "from credentials import DBNAME, USER, PASSWORD\n",
    "\n",
    "conn = psycopg.connect(\n",
    "    host=\"pinniped.postgres.database.azure.com\",\n",
    "    dbname=DBNAME, user=USER, password=PASSWORD\n",
    ")\n",
    "\n",
    "query_2 = \"SELECT * FROM beds\"\n",
    "query_3 = \"SELECT * FROM quality\"\n",
    "\n",
    "beds_df = pd.read_sql(query_2, conn)\n",
    "quality_df = pd.read_sql(query_3, conn)\n",
    "\n",
    "conn.close()\n",
    "\n",
    "merged_df = pd.merge(beds_df, quality_df, left_on='hospital_pk', right_on='facility_id')\n",
    "\n",
    "merged_df['total_beds'] = merged_df['all_adult_hospital_beds_7_day_avg'] + merged_df['all_pediatric_inpatient_beds_7_day_avg']\n",
    "merged_df['beds_in_use'] = merged_df['all_adult_hospital_inpatient_bed_occupied_7_day_coverage'] + merged_df['all_pediatric_inpatient_bed_occupied_7_day_avg']\n",
    "\n",
    "merged_df['fraction_beds_in_use'] = merged_df['beds_in_use'] / merged_df['total_beds']\n",
    "\n",
    "quality_bed_usage = merged_df.groupby('quality_rating')['fraction_beds_in_use'].mean().reset_index()\n",
    "\n",
    "quality_bed_usage"
   ]
  },
  {
   "cell_type": "code",
   "execution_count": 12,
   "metadata": {},
   "outputs": [
    {
     "name": "stderr",
     "output_type": "stream",
     "text": [
      "<ipython-input-12-b211392e5ea2>:13: UserWarning: pandas only supports SQLAlchemy connectable (engine/connection) or database string URI or sqlite3 DBAPI2 connection. Other DBAPI2 objects are not tested. Please consider using SQLAlchemy.\n",
      "  beds_df = pd.read_sql(query_2, conn)\n"
     ]
    },
    {
     "data": {
      "image/png": "[encoded data removed]",
      "text/plain": [
       "<Figure size 864x432 with 1 Axes>"
      ]
     },
     "metadata": {
      "needs_background": "light"
     },
     "output_type": "display_data"
    }
   ],
   "source": [
    "import pandas as pd\n",
    "import matplotlib.pyplot as plt\n",
    "import psycopg\n",
    "from credentials import DBNAME, USER, PASSWORD\n",
    "\n",
    "conn = psycopg.connect(\n",
    "    host=\"pinniped.postgres.database.azure.com\",\n",
    "    dbname=DBNAME, user=USER, password=PASSWORD\n",
    ")\n",
    "\n",
    "query_2 = \"SELECT * FROM beds\"\n",
    "\n",
    "beds_df = pd.read_sql(query_2, conn)\n",
    "\n",
    "conn.close()\n",
    "\n",
    "beds_df['collection_week'] = pd.to_datetime(beds_df['collection_week'])\n",
    "\n",
    "weekly_beds_usage = beds_df.groupby('collection_week').agg({\n",
    "    'all_adult_hospital_inpatient_bed_occupied_7_day_coverage': 'sum',\n",
    "    'all_pediatric_inpatient_bed_occupied_7_day_avg': 'sum',\n",
    "    'inpatient_beds_used_covid_7_day_avg': 'sum'\n",
    "}).reset_index()\n",
    "\n",
    "weekly_beds_usage['total_beds_used'] = (weekly_beds_usage['all_adult_hospital_inpatient_bed_occupied_7_day_coverage'] +\n",
    "                                        weekly_beds_usage['all_pediatric_inpatient_bed_occupied_7_day_avg'])\n",
    "\n",
    "plt.figure(figsize=(12, 6))\n",
    "plt.plot(weekly_beds_usage['collection_week'], weekly_beds_usage['total_beds_used'], label='Total Beds Used', marker='o')\n",
    "plt.plot(weekly_beds_usage['collection_week'], weekly_beds_usage['inpatient_beds_used_covid_7_day_avg'], label='COVID Beds Used', marker='x')\n",
    "plt.xlabel('Week')\n",
    "plt.ylabel('Number of Beds Used')\n",
    "plt.title('Total Number of Hospital Beds Used Per Week')\n",
    "plt.legend()\n",
    "plt.grid(True)\n",
    "plt.show()"
   ]
  },
  {
   "cell_type": "code",
   "execution_count": 18,
   "metadata": {},
   "outputs": [
    {
     "name": "stderr",
     "output_type": "stream",
     "text": [
      "<ipython-input-18-b2c0bb780349>:15: UserWarning: pandas only supports SQLAlchemy connectable (engine/connection) or database string URI or sqlite3 DBAPI2 connection. Other DBAPI2 objects are not tested. Please consider using SQLAlchemy.\n",
      "  hospital_df = pd.read_sql(query_1, conn)\n",
      "<ipython-input-18-b2c0bb780349>:16: UserWarning: pandas only supports SQLAlchemy connectable (engine/connection) or database string URI or sqlite3 DBAPI2 connection. Other DBAPI2 objects are not tested. Please consider using SQLAlchemy.\n",
      "  beds_df = pd.read_sql(query_2, conn)\n"
     ]
    },
    {
     "data": {
      "image/png": "[encoded data removed]",
      "text/plain": [
       "<Figure size 1080x504 with 1 Axes>"
      ]
     },
     "metadata": {
      "needs_background": "light"
     },
     "output_type": "display_data"
    }
   ],
   "source": [
    "import pandas as pd\n",
    "import matplotlib.pyplot as plt\n",
    "import psycopg\n",
    "from credentials import DBNAME, USER, PASSWORD\n",
    "\n",
    "conn = psycopg.connect(\n",
    "    host=\"pinniped.postgres.database.azure.com\",\n",
    "    dbname=DBNAME, user=USER, password=PASSWORD\n",
    ")\n",
    "\n",
    "query_1 = \"SELECT * FROM hospital\"\n",
    "query_2 = \"SELECT * FROM beds\"\n",
    "\n",
    "hospital_df = pd.read_sql(query_1, conn)\n",
    "beds_df = pd.read_sql(query_2, conn)\n",
    "\n",
    "conn.close()\n",
    "\n",
    "state_code_to_abbrev = {\n",
    "    '01': 'AL', '02': 'AK', '04': 'AZ', '05': 'AR',\n",
    "    '06': 'CA', '08': 'CO', '09': 'CT', '10': 'DE',\n",
    "    '11': 'DC', '12': 'FL', '13': 'GA', '15': 'HI',\n",
    "    '16': 'ID', '17': 'IL', '18': 'IN', '19': 'IA',\n",
    "    '20': 'KS', '21': 'KY', '22': 'LA', '23': 'ME',\n",
    "    '24': 'MD', '25': 'MA', '26': 'MI', '27': 'MN',\n",
    "    '28': 'MS', '29': 'MO', '30': 'MT', '31': 'NE',\n",
    "    '32': 'NV', '33': 'NH', '34': 'NJ', '35': 'NM',\n",
    "    '36': 'NY', '37': 'NC', '38': 'ND', '39': 'OH',\n",
    "    '40': 'OK', '41': 'OR', '42': 'PA', '44': 'RI',\n",
    "    '45': 'SC', '46': 'SD', '47': 'TN', '48': 'TX',\n",
    "    '49': 'UT', '50': 'VT', '51': 'VA', '53': 'WA',\n",
    "    '54': 'WV', '55': 'WI', '56': 'WY'\n",
    "}\n",
    "\n",
    "hospital_df['state_code'] = hospital_df['fips_code'].str[:2]\n",
    "\n",
    "merged_data = pd.merge(beds_df, hospital_df[['hospital_pk', 'state_code']], on='hospital_pk')\n",
    "\n",
    "merged_data['state_abbrev'] = merged_data['state_code'].map(state_code_to_abbrev)\n",
    "\n",
    "statewise_covid_cases = merged_data.groupby('state_abbrev')['inpatient_beds_used_covid_7_day_avg'].sum().reset_index()\n",
    "\n",
    "plt.figure(figsize=(15, 7))\n",
    "plt.bar(statewise_covid_cases['state_abbrev'], statewise_covid_cases['inpatient_beds_used_covid_7_day_avg'], color='teal')\n",
    "plt.xlabel('State')\n",
    "plt.ylabel('COVID Cases')\n",
    "plt.title('COVID Cases by State (Abbreviated)')\n",
    "plt.xticks(rotation=90) \n",
    "plt.show()\n"
   ]
  },
  {
   "cell_type": "code",
   "execution_count": null,
   "metadata": {},
   "outputs": [],
   "source": [
    "import pandas as pd\n",
    "import matplotlib.pyplot as plt\n",
    "import psycopg\n",
    "from credentials import DBNAME, USER, PASSWORD\n",
    "\n",
    "conn = psycopg.connect(\n",
    "    host=\"pinniped.postgres.database.azure.com\",\n",
    "    dbname=DBNAME, user=USER, password=PASSWORD\n",
    ")\n",
    "\n",
    "query_1 = \"SELECT * FROM hospital\"\n",
    "query_2 = \"SELECT * FROM beds\"\n",
    "\n",
    "hospital_df = pd.read_sql(query_1, conn)\n",
    "beds_df = pd.read_sql(query_2, conn)\n",
    "\n",
    "conn.close()"
   ]
  }
 ],
 "metadata": {
  "kernelspec": {
   "display_name": "base",
   "language": "python",
   "name": "python3"
  },
  "language_info": {
   "codemirror_mode": {
    "name": "ipython",
    "version": 3
   },
   "file_extension": ".py",
   "mimetype": "text/x-python",
   "name": "python",
   "nbconvert_exporter": "python",
   "pygments_lexer": "ipython3",
   "version": "3.11.4"
  },
  "orig_nbformat": 4
 },
 "nbformat": 4,
 "nbformat_minor": 2
}
